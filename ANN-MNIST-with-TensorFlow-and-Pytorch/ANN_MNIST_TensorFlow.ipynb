{
  "nbformat": 4,
  "nbformat_minor": 0,
  "metadata": {
    "colab": {
      "name": "ANN-MNIST-TensorFlow.ipynb",
      "provenance": []
    },
    "kernelspec": {
      "name": "python3",
      "display_name": "Python 3"
    },
    "language_info": {
      "name": "python"
    }
  },
  "cells": [
    {
      "cell_type": "markdown",
      "source": [
        "## Import TensorFlow"
      ],
      "metadata": {
        "id": "ktU6GwvIlF48"
      }
    },
    {
      "cell_type": "code",
      "execution_count": null,
      "metadata": {
        "colab": {
          "base_uri": "https://localhost:8080/"
        },
        "id": "ilxFeJ6E4ReD",
        "outputId": "75081e6d-b950-4111-813d-85f4e814b4ac"
      },
      "outputs": [
        {
          "output_type": "stream",
          "name": "stdout",
          "text": [
            "2.7.0\n"
          ]
        }
      ],
      "source": [
        "# Import Library\n",
        "import tensorflow as tf\n",
        "\n",
        "print(tf.__version__)"
      ]
    },
    {
      "cell_type": "markdown",
      "source": [
        "## Load the dataset"
      ],
      "metadata": {
        "id": "QMseqndv6jA7"
      }
    },
    {
      "cell_type": "code",
      "source": [
        "# Load the data\n",
        "mnist = tf.keras.datasets.mnist\n",
        "\n",
        "(X_train, y_train), (X_test, y_test) = mnist.load_data()\n",
        "X_train, X_test = X_train/255.0, X_test/255.0"
      ],
      "metadata": {
        "id": "sVq8TX5W5j77",
        "colab": {
          "base_uri": "https://localhost:8080/"
        },
        "outputId": "5bae9583-7d40-44b1-db62-8bf134d5af9f"
      },
      "execution_count": null,
      "outputs": [
        {
          "output_type": "stream",
          "name": "stdout",
          "text": [
            "Downloading data from https://storage.googleapis.com/tensorflow/tf-keras-datasets/mnist.npz\n",
            "11493376/11490434 [==============================] - 0s 0us/step\n",
            "11501568/11490434 [==============================] - 0s 0us/step\n"
          ]
        }
      ]
    },
    {
      "cell_type": "code",
      "source": [
        "X_train.shape"
      ],
      "metadata": {
        "colab": {
          "base_uri": "https://localhost:8080/"
        },
        "id": "kR7Lt4Bj6gbw",
        "outputId": "bce014d6-7158-4bc0-e21d-38addd98d432"
      },
      "execution_count": null,
      "outputs": [
        {
          "output_type": "execute_result",
          "data": {
            "text/plain": [
              "(60000, 28, 28)"
            ]
          },
          "metadata": {},
          "execution_count": 3
        }
      ]
    },
    {
      "cell_type": "markdown",
      "source": [
        "## Build the model"
      ],
      "metadata": {
        "id": "vVO-C-796uVi"
      }
    },
    {
      "cell_type": "code",
      "source": [
        "# Build the model\n",
        "model = tf.keras.models.Sequential([\n",
        "    tf.keras.layers.Flatten(input_shape=(28, 28)),\n",
        "    tf.keras.layers.Dense(units=128, activation='relu'),\n",
        "    tf.keras.layers.Dropout(0.2),\n",
        "    tf.keras.layers.Dense(units=10, activation='softmax')                               \n",
        "])"
      ],
      "metadata": {
        "id": "QjFiL8i36s-F"
      },
      "execution_count": null,
      "outputs": []
    },
    {
      "cell_type": "markdown",
      "source": [
        "## Train the model"
      ],
      "metadata": {
        "id": "Apo-u82J8w1w"
      }
    },
    {
      "cell_type": "code",
      "source": [
        "# Compile the model\n",
        "model.compile(optimizer='adam',\n",
        "              loss='sparse_categorical_crossentropy',\n",
        "              metrics=['accuracy'])"
      ],
      "metadata": {
        "id": "qYLtYsZJ8UPA"
      },
      "execution_count": null,
      "outputs": []
    },
    {
      "cell_type": "code",
      "source": [
        "# Train the model\n",
        "r = model.fit(X_train, y_train, validation_data=(X_test, y_test), epochs=20)"
      ],
      "metadata": {
        "colab": {
          "base_uri": "https://localhost:8080/"
        },
        "id": "X9zNFkM781GG",
        "outputId": "e6d0f359-a9f3-4c9e-8606-099fcddc15b4"
      },
      "execution_count": null,
      "outputs": [
        {
          "output_type": "stream",
          "name": "stdout",
          "text": [
            "Epoch 1/20\n",
            "1875/1875 [==============================] - 7s 3ms/step - loss: 0.2971 - accuracy: 0.9136 - val_loss: 0.1409 - val_accuracy: 0.9585\n",
            "Epoch 2/20\n",
            "1875/1875 [==============================] - 5s 3ms/step - loss: 0.1455 - accuracy: 0.9572 - val_loss: 0.1102 - val_accuracy: 0.9664\n",
            "Epoch 3/20\n",
            "1875/1875 [==============================] - 5s 3ms/step - loss: 0.1082 - accuracy: 0.9674 - val_loss: 0.0820 - val_accuracy: 0.9743\n",
            "Epoch 4/20\n",
            "1875/1875 [==============================] - 6s 3ms/step - loss: 0.0877 - accuracy: 0.9729 - val_loss: 0.0734 - val_accuracy: 0.9770\n",
            "Epoch 5/20\n",
            "1875/1875 [==============================] - 5s 3ms/step - loss: 0.0729 - accuracy: 0.9769 - val_loss: 0.0718 - val_accuracy: 0.9800\n",
            "Epoch 6/20\n",
            "1875/1875 [==============================] - 5s 3ms/step - loss: 0.0643 - accuracy: 0.9788 - val_loss: 0.0707 - val_accuracy: 0.9792\n",
            "Epoch 7/20\n",
            "1875/1875 [==============================] - 5s 3ms/step - loss: 0.0576 - accuracy: 0.9811 - val_loss: 0.0737 - val_accuracy: 0.9784\n",
            "Epoch 8/20\n",
            "1875/1875 [==============================] - 5s 3ms/step - loss: 0.0524 - accuracy: 0.9827 - val_loss: 0.0685 - val_accuracy: 0.9812\n",
            "Epoch 9/20\n",
            "1875/1875 [==============================] - 6s 3ms/step - loss: 0.0486 - accuracy: 0.9839 - val_loss: 0.0722 - val_accuracy: 0.9799\n",
            "Epoch 10/20\n",
            "1875/1875 [==============================] - 5s 3ms/step - loss: 0.0444 - accuracy: 0.9847 - val_loss: 0.0726 - val_accuracy: 0.9783\n",
            "Epoch 11/20\n",
            "1875/1875 [==============================] - 6s 3ms/step - loss: 0.0414 - accuracy: 0.9863 - val_loss: 0.0785 - val_accuracy: 0.9784\n",
            "Epoch 12/20\n",
            "1875/1875 [==============================] - 5s 3ms/step - loss: 0.0371 - accuracy: 0.9876 - val_loss: 0.0727 - val_accuracy: 0.9808\n",
            "Epoch 13/20\n",
            "1875/1875 [==============================] - 5s 3ms/step - loss: 0.0350 - accuracy: 0.9880 - val_loss: 0.0741 - val_accuracy: 0.9804\n",
            "Epoch 14/20\n",
            "1875/1875 [==============================] - 5s 3ms/step - loss: 0.0333 - accuracy: 0.9884 - val_loss: 0.0793 - val_accuracy: 0.9806\n",
            "Epoch 15/20\n",
            "1875/1875 [==============================] - 5s 3ms/step - loss: 0.0329 - accuracy: 0.9893 - val_loss: 0.0827 - val_accuracy: 0.9778\n",
            "Epoch 16/20\n",
            "1875/1875 [==============================] - 5s 3ms/step - loss: 0.0313 - accuracy: 0.9893 - val_loss: 0.0784 - val_accuracy: 0.9804\n",
            "Epoch 17/20\n",
            "1875/1875 [==============================] - 5s 3ms/step - loss: 0.0305 - accuracy: 0.9896 - val_loss: 0.0876 - val_accuracy: 0.9808\n",
            "Epoch 18/20\n",
            "1875/1875 [==============================] - 5s 3ms/step - loss: 0.0289 - accuracy: 0.9901 - val_loss: 0.0758 - val_accuracy: 0.9816\n",
            "Epoch 19/20\n",
            "1875/1875 [==============================] - 6s 3ms/step - loss: 0.0266 - accuracy: 0.9905 - val_loss: 0.0814 - val_accuracy: 0.9816\n",
            "Epoch 20/20\n",
            "1875/1875 [==============================] - 5s 3ms/step - loss: 0.0258 - accuracy: 0.9916 - val_loss: 0.0804 - val_accuracy: 0.9811\n"
          ]
        }
      ]
    },
    {
      "cell_type": "markdown",
      "source": [
        "## Evaluate the model"
      ],
      "metadata": {
        "id": "6nK_dpHC-pI_"
      }
    },
    {
      "cell_type": "code",
      "source": [
        "# Plot loss per iteration\n",
        "import matplotlib.pyplot as plt\n",
        "plt.plot(r.history['loss'],label = 'loss')\n",
        "plt.plot(r.history['val_loss'], label = 'val_loss')\n",
        "plt.legend()"
      ],
      "metadata": {
        "colab": {
          "base_uri": "https://localhost:8080/",
          "height": 282
        },
        "id": "cR0mnKTK9OLD",
        "outputId": "3237108f-a239-400e-81ca-c6b757e725bd"
      },
      "execution_count": null,
      "outputs": [
        {
          "output_type": "execute_result",
          "data": {
            "text/plain": [
              "<matplotlib.legend.Legend at 0x7fcd875cad50>"
            ]
          },
          "metadata": {},
          "execution_count": 7
        },
        {
          "output_type": "display_data",
          "data": {
            "image/png": "[encoded data removed]",
            "text/plain": [
              "<Figure size 432x288 with 1 Axes>"
            ]
          },
          "metadata": {
            "needs_background": "light"
          }
        }
      ]
    },
    {
      "cell_type": "code",
      "source": [
        "# Plot accuracy per iteration\n",
        "plt.plot(r.history['accuracy'], label='accuracy')\n",
        "plt.plot(r.history['val_accuracy'], label='val_accuracy')\n",
        "plt.legend()"
      ],
      "metadata": {
        "colab": {
          "base_uri": "https://localhost:8080/",
          "height": 282
        },
        "id": "RE_AJVoVBEih",
        "outputId": "9e00d01b-1b2b-4ef3-ad60-4e41056d7831"
      },
      "execution_count": null,
      "outputs": [
        {
          "output_type": "execute_result",
          "data": {
            "text/plain": [
              "<matplotlib.legend.Legend at 0x7fcd8bcea1d0>"
            ]
          },
          "metadata": {},
          "execution_count": 8
        },
        {
          "output_type": "display_data",
          "data": {
            "image/png": "[encoded data removed]",
            "text/plain": [
              "<Figure size 432x288 with 1 Axes>"
            ]
          },
          "metadata": {
            "needs_background": "light"
          }
        }
      ]
    },
    {
      "cell_type": "code",
      "source": [
        "# Evaluate the model\n",
        "model.evaluate(X_test, y_test)"
      ],
      "metadata": {
        "colab": {
          "base_uri": "https://localhost:8080/"
        },
        "id": "kbuHkx9wCXb4",
        "outputId": "c3e6a60c-bba1-493d-b2e2-4c34f1d85a2d"
      },
      "execution_count": null,
      "outputs": [
        {
          "output_type": "stream",
          "name": "stdout",
          "text": [
            "313/313 [==============================] - 1s 2ms/step - loss: 0.0804 - accuracy: 0.9811\n"
          ]
        },
        {
          "output_type": "execute_result",
          "data": {
            "text/plain": [
              "[0.08039729297161102, 0.9811000227928162]"
            ]
          },
          "metadata": {},
          "execution_count": 9
        }
      ]
    },
    {
      "cell_type": "code",
      "source": [
        "# Plot confusion matrix Func\n",
        "from sklearn.metrics import confusion_matrix\n",
        "import numpy as np\n",
        "import itertools\n",
        "\n",
        "def plot_confusion_matrix(conf_mat, classes,\n",
        "                          normalize=False,\n",
        "                          title='Confusion_matrix',\n",
        "                          cmap=plt.cm.Blues):\n",
        "  \"\"\"\n",
        "  This function prints and plots the confusion matrix.\n",
        "  Normalization can be applied by setting 'normalize=True'.\n",
        "  \"\"\"\n",
        "  \n",
        "  if normalize:\n",
        "    conf_mat = conf_mat.astype('float') / conf_mat.sum(axis=1)[:,  np.newaxis]\n",
        "    print(\"Normalized confusion matrix\")\n",
        "  else:\n",
        "    print(\"Confusion matrix, without normalization\")\n",
        "\n",
        "  print(conf_mat)\n",
        "\n",
        "  plt.imshow(conf_mat, interpolation='nearest', cmap=cmap)\n",
        "  plt.title(title)\n",
        "  plt.colorbar()\n",
        "  tick_marks = np.arange(len(classes))\n",
        "  plt.xticks(tick_marks, classes, rotation=45)\n",
        "  plt.yticks(tick_marks, classes)\n",
        "\n",
        "  fmt = '.2f' if normalize else 'd'\n",
        "  thresh = conf_mat.max() / 2.\n",
        "  for i, j in itertools.product(range(conf_mat.shape[0]), range(conf_mat.shape[1])):\n",
        "      plt.text(j, i, format(conf_mat[i, j], fmt),\n",
        "               horizontalalignment=\"center\",\n",
        "               color=\"white\" if conf_mat[i, j] > thresh else \"black\")\n",
        "      \n",
        "  plt.tight_layout()\n",
        "  plt.xlabel('Predicted label')\n",
        "  plt.ylabel('True label')\n",
        "  plt.show()\n"
      ],
      "metadata": {
        "id": "iOfJEilzG0o2"
      },
      "execution_count": null,
      "outputs": []
    },
    {
      "cell_type": "code",
      "source": [
        "# Predict & Evaluate\n",
        "pred_test = model.predict(X_test).argmax(axis=1)\n",
        "conf_mat = confusion_matrix(y_test, pred_test)\n",
        "plot_confusion_matrix(conf_mat, list(range(10)))"
      ],
      "metadata": {
        "colab": {
          "base_uri": "https://localhost:8080/",
          "height": 502
        },
        "id": "oP7nUjgiVSWs",
        "outputId": "f255a19e-663d-40d9-c4df-a86c4484f937"
      },
      "execution_count": null,
      "outputs": [
        {
          "output_type": "stream",
          "name": "stdout",
          "text": [
            "Confusion matrix, without normalization\n",
            "[[ 969    0    2    1    1    0    1    2    3    1]\n",
            " [   0 1121    3    1    0    0    2    2    6    0]\n",
            " [   2    0 1018    1    2    0    1    6    2    0]\n",
            " [   1    0    4  990    1    3    0    6    4    1]\n",
            " [   2    0    1    1  965    0    4    2    1    6]\n",
            " [   2    0    0   11    2  867    3    2    4    1]\n",
            " [   4    2    1    0    2    4  941    0    4    0]\n",
            " [   1    1    6    2    1    0    0 1014    2    1]\n",
            " [   5    0    3    6    4    1    0    5  948    2]\n",
            " [   0    2    0    6    8    3    1    8    3  978]]\n"
          ]
        },
        {
          "output_type": "display_data",
          "data": {
            "image/png": "[encoded data removed]",
            "text/plain": [
              "<Figure size 432x288 with 2 Axes>"
            ]
          },
          "metadata": {
            "needs_background": "light"
          }
        }
      ]
    },
    {
      "cell_type": "markdown",
      "source": [
        "## Evaluation on prediction result of True-Classified and Misclassified"
      ],
      "metadata": {
        "id": "8RnXiAzmXSGu"
      }
    },
    {
      "cell_type": "code",
      "source": [
        "# Show True-classified example\n",
        "true_classified_idx = np.where(pred_test == y_test)[0]\n",
        "i = np.random.choice(true_classified_idx)\n",
        "plt.imshow(X_test[i], cmap='gray')\n",
        "plt.title(\"True label %s Predicted label %s\" % (y_test[i], pred_test[i]));"
      ],
      "metadata": {
        "colab": {
          "base_uri": "https://localhost:8080/",
          "height": 281
        },
        "id": "FUmvjXXdef54",
        "outputId": "34aa1410-aaec-46e8-9889-0d9479b58454"
      },
      "execution_count": null,
      "outputs": [
        {
          "output_type": "display_data",
          "data": {
            "image/png": "[encoded data removed]",
            "text/plain": [
              "<Figure size 432x288 with 1 Axes>"
            ]
          },
          "metadata": {
            "needs_background": "light"
          }
        }
      ]
    },
    {
      "cell_type": "code",
      "source": [
        "# Show Misclassified example\n",
        "misclassified_idx = np.where(pred_test != y_test)[0]\n",
        "i = np.random.choice(misclassified_idx)\n",
        "plt.imshow(X_test[i], cmap='gray')\n",
        "plt.title(\"True label %s Predicted label %s\" % (y_test[i], pred_test[i]));"
      ],
      "metadata": {
        "colab": {
          "base_uri": "https://localhost:8080/",
          "height": 281
        },
        "id": "zYpuSxAPXFMs",
        "outputId": "32a44495-dc67-4ecd-a445-92f29fd473b8"
      },
      "execution_count": null,
      "outputs": [
        {
          "output_type": "display_data",
          "data": {
            "image/png": "[encoded data removed]",
            "text/plain": [
              "<Figure size 432x288 with 1 Axes>"
            ]
          },
          "metadata": {
            "needs_background": "light"
          }
        }
      ]
    },
    {
      "cell_type": "code",
      "source": [
        ""
      ],
      "metadata": {
        "id": "tdOIoqsWYUhZ"
      },
      "execution_count": null,
      "outputs": []
    },
    {
      "cell_type": "code",
      "source": [
        ""
      ],
      "metadata": {
        "id": "C8tK9r87YNgH"
      },
      "execution_count": null,
      "outputs": []
    }
  ]
}