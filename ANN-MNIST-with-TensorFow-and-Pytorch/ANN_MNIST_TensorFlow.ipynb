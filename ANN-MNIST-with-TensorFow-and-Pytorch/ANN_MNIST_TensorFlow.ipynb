{
  "nbformat": 4,
  "nbformat_minor": 0,
  "metadata": {
    "colab": {
      "name": "ANN-MNIST-TensorFlow.ipynb",
      "provenance": []
    },
    "kernelspec": {
      "name": "python3",
      "display_name": "Python 3"
    },
    "language_info": {
      "name": "python"
    }
  },
  "cells": [
    {
      "cell_type": "markdown",
      "source": [
        "## Import TensorFlow"
      ],
      "metadata": {
        "id": "ktU6GwvIlF48"
      }
    },
    {
      "cell_type": "code",
      "execution_count": null,
      "metadata": {
        "colab": {
          "base_uri": "https://localhost:8080/"
        },
        "id": "ilxFeJ6E4ReD",
        "outputId": "19b6255d-5c5b-4271-ef32-8ca1388b8206"
      },
      "outputs": [
        {
          "output_type": "stream",
          "name": "stdout",
          "text": [
            "2.7.0\n"
          ]
        }
      ],
      "source": [
        "# Import Library\n",
        "import tensorflow as tf\n",
        "\n",
        "print(tf.__version__)"
      ]
    },
    {
      "cell_type": "markdown",
      "source": [
        "## Load the dataset"
      ],
      "metadata": {
        "id": "QMseqndv6jA7"
      }
    },
    {
      "cell_type": "code",
      "source": [
        "# Load the data\n",
        "mnist = tf.keras.datasets.mnist\n",
        "\n",
        "(X_train, y_train), (X_test, y_test) = mnist.load_data()\n",
        "X_train, X_test = X_train/255.0, X_test/255.0"
      ],
      "metadata": {
        "id": "sVq8TX5W5j77"
      },
      "execution_count": null,
      "outputs": []
    },
    {
      "cell_type": "code",
      "source": [
        "X_train.shape"
      ],
      "metadata": {
        "colab": {
          "base_uri": "https://localhost:8080/"
        },
        "id": "kR7Lt4Bj6gbw",
        "outputId": "caf7a939-d86c-464c-b0f8-a8c6eb896444"
      },
      "execution_count": null,
      "outputs": [
        {
          "output_type": "execute_result",
          "data": {
            "text/plain": [
              "(60000, 28, 28)"
            ]
          },
          "metadata": {},
          "execution_count": 22
        }
      ]
    },
    {
      "cell_type": "markdown",
      "source": [
        "## Build the model"
      ],
      "metadata": {
        "id": "vVO-C-796uVi"
      }
    },
    {
      "cell_type": "code",
      "source": [
        "# Build the model\n",
        "model = tf.keras.models.Sequential([\n",
        "    tf.keras.layers.Flatten(input_shape=(28, 28)),\n",
        "    tf.keras.layers.Dense(units=128, activation='relu'),\n",
        "    tf.keras.layers.Dropout(0.2),\n",
        "    tf.keras.layers.Dense(units=10, activation='softmax')                               \n",
        "])"
      ],
      "metadata": {
        "id": "QjFiL8i36s-F"
      },
      "execution_count": null,
      "outputs": []
    },
    {
      "cell_type": "markdown",
      "source": [
        "## Train the model"
      ],
      "metadata": {
        "id": "Apo-u82J8w1w"
      }
    },
    {
      "cell_type": "code",
      "source": [
        "# Compile the model\n",
        "model.compile(optimizer='adam',\n",
        "              loss='sparse_categorical_crossentropy',\n",
        "              metrics=['accuracy'])"
      ],
      "metadata": {
        "id": "qYLtYsZJ8UPA"
      },
      "execution_count": null,
      "outputs": []
    },
    {
      "cell_type": "code",
      "source": [
        "# Train the model\n",
        "r = model.fit(X_train, y_train, validation_data=(X_test, y_test), epochs=20)"
      ],
      "metadata": {
        "colab": {
          "base_uri": "https://localhost:8080/"
        },
        "id": "X9zNFkM781GG",
        "outputId": "193a6235-3b2f-42d1-d3a3-bef7d0c76d0b"
      },
      "execution_count": null,
      "outputs": [
        {
          "output_type": "stream",
          "name": "stdout",
          "text": [
            "Epoch 1/20\n",
            "1875/1875 [==============================] - 5s 3ms/step - loss: 0.3009 - accuracy: 0.9114 - val_loss: 0.1498 - val_accuracy: 0.9542\n",
            "Epoch 2/20\n",
            "1875/1875 [==============================] - 5s 3ms/step - loss: 0.1466 - accuracy: 0.9565 - val_loss: 0.1053 - val_accuracy: 0.9666\n",
            "Epoch 3/20\n",
            "1875/1875 [==============================] - 5s 2ms/step - loss: 0.1103 - accuracy: 0.9664 - val_loss: 0.0899 - val_accuracy: 0.9724\n",
            "Epoch 4/20\n",
            "1875/1875 [==============================] - 5s 3ms/step - loss: 0.0906 - accuracy: 0.9720 - val_loss: 0.0782 - val_accuracy: 0.9748\n",
            "Epoch 5/20\n",
            "1875/1875 [==============================] - 5s 3ms/step - loss: 0.0750 - accuracy: 0.9765 - val_loss: 0.0756 - val_accuracy: 0.9766\n",
            "Epoch 6/20\n",
            "1875/1875 [==============================] - 5s 2ms/step - loss: 0.0698 - accuracy: 0.9779 - val_loss: 0.0742 - val_accuracy: 0.9769\n",
            "Epoch 7/20\n",
            "1875/1875 [==============================] - 5s 3ms/step - loss: 0.0611 - accuracy: 0.9804 - val_loss: 0.0669 - val_accuracy: 0.9790\n",
            "Epoch 8/20\n",
            "1875/1875 [==============================] - 5s 3ms/step - loss: 0.0541 - accuracy: 0.9826 - val_loss: 0.0692 - val_accuracy: 0.9794\n",
            "Epoch 9/20\n",
            "1875/1875 [==============================] - 5s 2ms/step - loss: 0.0496 - accuracy: 0.9838 - val_loss: 0.0736 - val_accuracy: 0.9786\n",
            "Epoch 10/20\n",
            "1875/1875 [==============================] - 5s 3ms/step - loss: 0.0459 - accuracy: 0.9849 - val_loss: 0.0682 - val_accuracy: 0.9786\n",
            "Epoch 11/20\n",
            "1875/1875 [==============================] - 5s 2ms/step - loss: 0.0431 - accuracy: 0.9853 - val_loss: 0.0694 - val_accuracy: 0.9798\n",
            "Epoch 12/20\n",
            "1875/1875 [==============================] - 5s 3ms/step - loss: 0.0387 - accuracy: 0.9866 - val_loss: 0.0679 - val_accuracy: 0.9799\n",
            "Epoch 13/20\n",
            "1875/1875 [==============================] - 5s 3ms/step - loss: 0.0378 - accuracy: 0.9870 - val_loss: 0.0709 - val_accuracy: 0.9798\n",
            "Epoch 14/20\n",
            "1875/1875 [==============================] - 5s 3ms/step - loss: 0.0349 - accuracy: 0.9879 - val_loss: 0.0797 - val_accuracy: 0.9784\n",
            "Epoch 15/20\n",
            "1875/1875 [==============================] - 5s 3ms/step - loss: 0.0312 - accuracy: 0.9893 - val_loss: 0.0798 - val_accuracy: 0.9780\n",
            "Epoch 16/20\n",
            "1875/1875 [==============================] - 5s 2ms/step - loss: 0.0324 - accuracy: 0.9891 - val_loss: 0.0692 - val_accuracy: 0.9808\n",
            "Epoch 17/20\n",
            "1875/1875 [==============================] - 5s 3ms/step - loss: 0.0288 - accuracy: 0.9901 - val_loss: 0.0828 - val_accuracy: 0.9801\n",
            "Epoch 18/20\n",
            "1875/1875 [==============================] - 5s 3ms/step - loss: 0.0290 - accuracy: 0.9904 - val_loss: 0.0793 - val_accuracy: 0.9806\n",
            "Epoch 19/20\n",
            "1875/1875 [==============================] - 5s 3ms/step - loss: 0.0266 - accuracy: 0.9909 - val_loss: 0.0845 - val_accuracy: 0.9787\n",
            "Epoch 20/20\n",
            "1875/1875 [==============================] - 5s 2ms/step - loss: 0.0263 - accuracy: 0.9904 - val_loss: 0.0770 - val_accuracy: 0.9807\n"
          ]
        }
      ]
    },
    {
      "cell_type": "markdown",
      "source": [
        "## Evaluate the model"
      ],
      "metadata": {
        "id": "6nK_dpHC-pI_"
      }
    },
    {
      "cell_type": "code",
      "source": [
        "# Plot loss per iteration\n",
        "import matplotlib.pyplot as plt\n",
        "plt.plot(r.history['loss'],label = 'loss')\n",
        "plt.plot(r.history['val_loss'], label = 'val_loss')\n",
        "plt.legend()"
      ],
      "metadata": {
        "colab": {
          "base_uri": "https://localhost:8080/",
          "height": 282
        },
        "id": "cR0mnKTK9OLD",
        "outputId": "7f4866cc-df60-4518-bf14-5cd48e7aeebe"
      },
      "execution_count": null,
      "outputs": [
        {
          "output_type": "execute_result",
          "data": {
            "text/plain": [
              "<matplotlib.legend.Legend at 0x7f84df1a2790>"
            ]
          },
          "metadata": {},
          "execution_count": 26
        },
        {
          "output_type": "display_data",
          "data": {
            "image/png": "[encoded data removed]",
            "text/plain": [
              "<Figure size 432x288 with 1 Axes>"
            ]
          },
          "metadata": {
            "needs_background": "light"
          }
        }
      ]
    },
    {
      "cell_type": "code",
      "source": [
        "# Plot accuracy per iteration\n",
        "plt.plot(r.history['accuracy'], label='accuracy')\n",
        "plt.plot(r.history['val_accuracy'], label='val_accuracy')\n",
        "plt.legend()"
      ],
      "metadata": {
        "colab": {
          "base_uri": "https://localhost:8080/",
          "height": 282
        },
        "id": "RE_AJVoVBEih",
        "outputId": "ece56acf-c0a6-492b-cc3d-fe26056b1f56"
      },
      "execution_count": 29,
      "outputs": [
        {
          "output_type": "execute_result",
          "data": {
            "text/plain": [
              "<matplotlib.legend.Legend at 0x7f84dc73bed0>"
            ]
          },
          "metadata": {},
          "execution_count": 29
        },
        {
          "output_type": "display_data",
          "data": {
            "image/png": "[encoded data removed]",
            "text/plain": [
              "<Figure size 432x288 with 1 Axes>"
            ]
          },
          "metadata": {
            "needs_background": "light"
          }
        }
      ]
    },
    {
      "cell_type": "code",
      "source": [
        "# Evaluate the model\n",
        "model.evaluate(X_test, y_test)"
      ],
      "metadata": {
        "colab": {
          "base_uri": "https://localhost:8080/"
        },
        "id": "kbuHkx9wCXb4",
        "outputId": "f75747fb-0fd8-4a6f-faee-3ed513d18711"
      },
      "execution_count": 30,
      "outputs": [
        {
          "output_type": "stream",
          "name": "stdout",
          "text": [
            "313/313 [==============================] - 1s 2ms/step - loss: 0.0770 - accuracy: 0.9807\n"
          ]
        },
        {
          "output_type": "execute_result",
          "data": {
            "text/plain": [
              "[0.07702690362930298, 0.9807000160217285]"
            ]
          },
          "metadata": {},
          "execution_count": 30
        }
      ]
    },
    {
      "cell_type": "code",
      "source": [
        "# Plot confusion matrix Func\n",
        "from sklearn.metrics import confusion_matrix\n",
        "import numpy as np\n",
        "import itertools\n",
        "\n",
        "def plot_confusion_matrix(conf_mat, classes,\n",
        "                          normalize=False,\n",
        "                          title='Confusion_matrix',\n",
        "                          cmap=plt.cm.Blues):\n",
        "  \"\"\"\n",
        "  This function prints and plots the confusion matrix.\n",
        "  Normalization can be applied by setting 'normalize=True'.\n",
        "  \"\"\"\n",
        "  \n",
        "  if normalize:\n",
        "    conf_mat = conf_mat.astype('float') / conf_mat.sum(axis=1)[:,  np.newaxis]\n",
        "    print(\"Normalized confusion matrix\")\n",
        "  else:\n",
        "    print(\"Confusion matrix, without normalization\")\n",
        "\n",
        "  print(conf_mat)\n",
        "\n",
        "  plt.imshow(conf_mat, interpolation='nearest', cmap=cmap)\n",
        "  plt.title(title)\n",
        "  plt.colorbar()\n",
        "  tick_marks = np.arange(len(classes))\n",
        "  plt.xticks(tick_marks, classes, rotation=45)\n",
        "  plt.yticks(tick_marks, classes)\n",
        "\n",
        "  fmt = '.2f' if normalize else 'd'\n",
        "  thresh = conf_mat.max() / 2.\n",
        "  for i, j in itertools.product(range(conf_mat.shape[0]), range(conf_mat.shape[1])):\n",
        "      plt.text(j, i, format(conf_mat[i, j], fmt),\n",
        "               horizontalalignment=\"center\",\n",
        "               color=\"white\" if conf_mat[i, j] > thresh else \"black\")\n",
        "      \n",
        "  plt.tight_layout()\n",
        "  plt.xlabel('Predicted label')\n",
        "  plt.ylabel('True label')\n",
        "  plt.show()\n"
      ],
      "metadata": {
        "id": "iOfJEilzG0o2"
      },
      "execution_count": 42,
      "outputs": []
    },
    {
      "cell_type": "code",
      "source": [
        "# Predict & Evaluate\n",
        "pred_test = model.predict(X_test).argmax(axis=1)\n",
        "conf_mat = confusion_matrix(y_test, pred_test)\n",
        "plot_confusion_matrix(conf_mat, list(range(10)))"
      ],
      "metadata": {
        "colab": {
          "base_uri": "https://localhost:8080/",
          "height": 502
        },
        "id": "oP7nUjgiVSWs",
        "outputId": "682be0d0-25aa-4450-98fc-2d17fbce8942"
      },
      "execution_count": 57,
      "outputs": [
        {
          "output_type": "stream",
          "name": "stdout",
          "text": [
            "Confusion matrix, without normalization\n",
            "[[ 972    0    1    2    0    1    1    1    2    0]\n",
            " [   0 1118    2    1    0    0    5    1    8    0]\n",
            " [   3    1 1001    7    3    0    1    7    9    0]\n",
            " [   0    0    3  994    0    4    0    4    1    4]\n",
            " [   0    0    2    0  964    0    5    0    2    9]\n",
            " [   2    0    0   10    2  867    5    1    4    1]\n",
            " [   7    2    0    1    1    2  942    0    3    0]\n",
            " [   2    0   10    3    0    0    0 1006    1    6]\n",
            " [   4    0    1    3    2    1    1    4  955    3]\n",
            " [   0    1    0    6    7    1    1    3    2  988]]\n"
          ]
        },
        {
          "output_type": "display_data",
          "data": {
            "image/png": "[encoded data removed]",
            "text/plain": [
              "<Figure size 432x288 with 2 Axes>"
            ]
          },
          "metadata": {
            "needs_background": "light"
          }
        }
      ]
    },
    {
      "cell_type": "markdown",
      "source": [
        "## Prediction"
      ],
      "metadata": {
        "id": "8RnXiAzmXSGu"
      }
    },
    {
      "cell_type": "code",
      "source": [
        "# Show Misclassified example\n",
        "misclassified_idx = np.where(pred_test != y_test)[0]\n",
        "i = np.random.choice(misclassified_idx)\n",
        "plt.imshow(X_test[i], cmap='gray')\n",
        "plt.title(\"True label %s Predicted label %s\" % (y_test[i], pred_test[i]));"
      ],
      "metadata": {
        "colab": {
          "base_uri": "https://localhost:8080/",
          "height": 281
        },
        "id": "zYpuSxAPXFMs",
        "outputId": "6c5341b8-44ef-4079-e4d5-60d041332c3c"
      },
      "execution_count": 60,
      "outputs": [
        {
          "output_type": "display_data",
          "data": {
            "image/png": "[encoded data removed]",
            "text/plain": [
              "<Figure size 432x288 with 1 Axes>"
            ]
          },
          "metadata": {
            "needs_background": "light"
          }
        }
      ]
    },
    {
      "cell_type": "code",
      "source": [
        ""
      ],
      "metadata": {
        "id": "tdOIoqsWYUhZ"
      },
      "execution_count": 46,
      "outputs": []
    },
    {
      "cell_type": "code",
      "source": [
        ""
      ],
      "metadata": {
        "id": "C8tK9r87YNgH"
      },
      "execution_count": null,
      "outputs": []
    }
  ]
}